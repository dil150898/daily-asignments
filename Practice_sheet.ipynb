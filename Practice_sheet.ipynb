{
  "nbformat": 4,
  "nbformat_minor": 0,
  "metadata": {
    "kernelspec": {
      "display_name": "Python 3",
      "language": "python",
      "name": "python3"
    },
    "language_info": {
      "codemirror_mode": {
        "name": "ipython",
        "version": 3
      },
      "file_extension": ".py",
      "mimetype": "text/x-python",
      "name": "python",
      "nbconvert_exporter": "python",
      "pygments_lexer": "ipython3",
      "version": "3.7.4"
    },
    "colab": {
      "provenance": [],
      "include_colab_link": true
    }
  },
  "cells": [
    {
      "cell_type": "markdown",
      "metadata": {
        "id": "view-in-github",
        "colab_type": "text"
      },
      "source": [
        "<a href=\"https://colab.research.google.com/github/dil150898/daily-asignments/blob/main/Practice_sheet.ipynb\" target=\"_parent\"><img src=\"https://colab.research.google.com/assets/colab-badge.svg\" alt=\"Open In Colab\"/></a>"
      ]
    },
    {
      "cell_type": "markdown",
      "metadata": {
        "id": "t4O7WDUFjkFq"
      },
      "source": [
        "## <u>While doing this assignment only use those concepts which have been taught till now</u>"
      ]
    },
    {
      "cell_type": "markdown",
      "metadata": {
        "id": "KB9ZI2xAjkF6"
      },
      "source": [
        "## <u>Problem 1</u>\n",
        "\n",
        "A list contains the average daily temperature(in degree Celsius) of a city over a particular week. Write a Python code to swap the highest and the lowest temperatures"
      ]
    },
    {
      "cell_type": "code",
      "source": [
        "pip install PyPDF2"
      ],
      "metadata": {
        "id": "d0JKC0ZLUFSA",
        "outputId": "7809fbdd-9f6d-43bd-a8ae-1ecc4c01cc7d",
        "colab": {
          "base_uri": "https://localhost:8080/"
        }
      },
      "execution_count": null,
      "outputs": [
        {
          "output_type": "stream",
          "name": "stdout",
          "text": [
            "Collecting PyPDF2\n",
            "  Downloading pypdf2-3.0.1-py3-none-any.whl.metadata (6.8 kB)\n",
            "Downloading pypdf2-3.0.1-py3-none-any.whl (232 kB)\n",
            "\u001b[2K   \u001b[90m━━━━━━━━━━━━━━━━━━━━━━━━━━━━━━━━━━━━━━━━\u001b[0m \u001b[32m232.6/232.6 kB\u001b[0m \u001b[31m5.5 MB/s\u001b[0m eta \u001b[36m0:00:00\u001b[0m\n",
            "\u001b[?25hInstalling collected packages: PyPDF2\n",
            "Successfully installed PyPDF2-3.0.1\n"
          ]
        }
      ]
    },
    {
      "cell_type": "code",
      "metadata": {
        "id": "O3ZtUcxsjkF7"
      },
      "source": [
        "from PyPDF2 import PdfReader, PdfWriter\n"
      ],
      "execution_count": null,
      "outputs": []
    },
    {
      "cell_type": "code",
      "source": [
        "from google.colab import files\n",
        "uploaded = files.upload()"
      ],
      "metadata": {
        "id": "Oa2DI7keUFYm",
        "outputId": "d2892739-ae4c-4917-8f2c-9785bb7bb7d8",
        "colab": {
          "base_uri": "https://localhost:8080/",
          "height": 73
        }
      },
      "execution_count": null,
      "outputs": [
        {
          "output_type": "display_data",
          "data": {
            "text/plain": [
              "<IPython.core.display.HTML object>"
            ],
            "text/html": [
              "\n",
              "     <input type=\"file\" id=\"files-b2c42201-64a4-469f-9f65-0aba4ff40523\" name=\"files[]\" multiple disabled\n",
              "        style=\"border:none\" />\n",
              "     <output id=\"result-b2c42201-64a4-469f-9f65-0aba4ff40523\">\n",
              "      Upload widget is only available when the cell has been executed in the\n",
              "      current browser session. Please rerun this cell to enable.\n",
              "      </output>\n",
              "      <script>// Copyright 2017 Google LLC\n",
              "//\n",
              "// Licensed under the Apache License, Version 2.0 (the \"License\");\n",
              "// you may not use this file except in compliance with the License.\n",
              "// You may obtain a copy of the License at\n",
              "//\n",
              "//      http://www.apache.org/licenses/LICENSE-2.0\n",
              "//\n",
              "// Unless required by applicable law or agreed to in writing, software\n",
              "// distributed under the License is distributed on an \"AS IS\" BASIS,\n",
              "// WITHOUT WARRANTIES OR CONDITIONS OF ANY KIND, either express or implied.\n",
              "// See the License for the specific language governing permissions and\n",
              "// limitations under the License.\n",
              "\n",
              "/**\n",
              " * @fileoverview Helpers for google.colab Python module.\n",
              " */\n",
              "(function(scope) {\n",
              "function span(text, styleAttributes = {}) {\n",
              "  const element = document.createElement('span');\n",
              "  element.textContent = text;\n",
              "  for (const key of Object.keys(styleAttributes)) {\n",
              "    element.style[key] = styleAttributes[key];\n",
              "  }\n",
              "  return element;\n",
              "}\n",
              "\n",
              "// Max number of bytes which will be uploaded at a time.\n",
              "const MAX_PAYLOAD_SIZE = 100 * 1024;\n",
              "\n",
              "function _uploadFiles(inputId, outputId) {\n",
              "  const steps = uploadFilesStep(inputId, outputId);\n",
              "  const outputElement = document.getElementById(outputId);\n",
              "  // Cache steps on the outputElement to make it available for the next call\n",
              "  // to uploadFilesContinue from Python.\n",
              "  outputElement.steps = steps;\n",
              "\n",
              "  return _uploadFilesContinue(outputId);\n",
              "}\n",
              "\n",
              "// This is roughly an async generator (not supported in the browser yet),\n",
              "// where there are multiple asynchronous steps and the Python side is going\n",
              "// to poll for completion of each step.\n",
              "// This uses a Promise to block the python side on completion of each step,\n",
              "// then passes the result of the previous step as the input to the next step.\n",
              "function _uploadFilesContinue(outputId) {\n",
              "  const outputElement = document.getElementById(outputId);\n",
              "  const steps = outputElement.steps;\n",
              "\n",
              "  const next = steps.next(outputElement.lastPromiseValue);\n",
              "  return Promise.resolve(next.value.promise).then((value) => {\n",
              "    // Cache the last promise value to make it available to the next\n",
              "    // step of the generator.\n",
              "    outputElement.lastPromiseValue = value;\n",
              "    return next.value.response;\n",
              "  });\n",
              "}\n",
              "\n",
              "/**\n",
              " * Generator function which is called between each async step of the upload\n",
              " * process.\n",
              " * @param {string} inputId Element ID of the input file picker element.\n",
              " * @param {string} outputId Element ID of the output display.\n",
              " * @return {!Iterable<!Object>} Iterable of next steps.\n",
              " */\n",
              "function* uploadFilesStep(inputId, outputId) {\n",
              "  const inputElement = document.getElementById(inputId);\n",
              "  inputElement.disabled = false;\n",
              "\n",
              "  const outputElement = document.getElementById(outputId);\n",
              "  outputElement.innerHTML = '';\n",
              "\n",
              "  const pickedPromise = new Promise((resolve) => {\n",
              "    inputElement.addEventListener('change', (e) => {\n",
              "      resolve(e.target.files);\n",
              "    });\n",
              "  });\n",
              "\n",
              "  const cancel = document.createElement('button');\n",
              "  inputElement.parentElement.appendChild(cancel);\n",
              "  cancel.textContent = 'Cancel upload';\n",
              "  const cancelPromise = new Promise((resolve) => {\n",
              "    cancel.onclick = () => {\n",
              "      resolve(null);\n",
              "    };\n",
              "  });\n",
              "\n",
              "  // Wait for the user to pick the files.\n",
              "  const files = yield {\n",
              "    promise: Promise.race([pickedPromise, cancelPromise]),\n",
              "    response: {\n",
              "      action: 'starting',\n",
              "    }\n",
              "  };\n",
              "\n",
              "  cancel.remove();\n",
              "\n",
              "  // Disable the input element since further picks are not allowed.\n",
              "  inputElement.disabled = true;\n",
              "\n",
              "  if (!files) {\n",
              "    return {\n",
              "      response: {\n",
              "        action: 'complete',\n",
              "      }\n",
              "    };\n",
              "  }\n",
              "\n",
              "  for (const file of files) {\n",
              "    const li = document.createElement('li');\n",
              "    li.append(span(file.name, {fontWeight: 'bold'}));\n",
              "    li.append(span(\n",
              "        `(${file.type || 'n/a'}) - ${file.size} bytes, ` +\n",
              "        `last modified: ${\n",
              "            file.lastModifiedDate ? file.lastModifiedDate.toLocaleDateString() :\n",
              "                                    'n/a'} - `));\n",
              "    const percent = span('0% done');\n",
              "    li.appendChild(percent);\n",
              "\n",
              "    outputElement.appendChild(li);\n",
              "\n",
              "    const fileDataPromise = new Promise((resolve) => {\n",
              "      const reader = new FileReader();\n",
              "      reader.onload = (e) => {\n",
              "        resolve(e.target.result);\n",
              "      };\n",
              "      reader.readAsArrayBuffer(file);\n",
              "    });\n",
              "    // Wait for the data to be ready.\n",
              "    let fileData = yield {\n",
              "      promise: fileDataPromise,\n",
              "      response: {\n",
              "        action: 'continue',\n",
              "      }\n",
              "    };\n",
              "\n",
              "    // Use a chunked sending to avoid message size limits. See b/62115660.\n",
              "    let position = 0;\n",
              "    do {\n",
              "      const length = Math.min(fileData.byteLength - position, MAX_PAYLOAD_SIZE);\n",
              "      const chunk = new Uint8Array(fileData, position, length);\n",
              "      position += length;\n",
              "\n",
              "      const base64 = btoa(String.fromCharCode.apply(null, chunk));\n",
              "      yield {\n",
              "        response: {\n",
              "          action: 'append',\n",
              "          file: file.name,\n",
              "          data: base64,\n",
              "        },\n",
              "      };\n",
              "\n",
              "      let percentDone = fileData.byteLength === 0 ?\n",
              "          100 :\n",
              "          Math.round((position / fileData.byteLength) * 100);\n",
              "      percent.textContent = `${percentDone}% done`;\n",
              "\n",
              "    } while (position < fileData.byteLength);\n",
              "  }\n",
              "\n",
              "  // All done.\n",
              "  yield {\n",
              "    response: {\n",
              "      action: 'complete',\n",
              "    }\n",
              "  };\n",
              "}\n",
              "\n",
              "scope.google = scope.google || {};\n",
              "scope.google.colab = scope.google.colab || {};\n",
              "scope.google.colab._files = {\n",
              "  _uploadFiles,\n",
              "  _uploadFilesContinue,\n",
              "};\n",
              "})(self);\n",
              "</script> "
            ]
          },
          "metadata": {}
        },
        {
          "output_type": "stream",
          "name": "stdout",
          "text": [
            "Saving XXXXXXXXXXX2063.pdf to XXXXXXXXXXX2063.pdf\n"
          ]
        }
      ]
    },
    {
      "cell_type": "code",
      "source": [
        "for filename in uploaded.keys():\n",
        "    print(f\"Uploaded file: {filename}\")\n"
      ],
      "metadata": {
        "id": "IqjADJP4UFeO",
        "outputId": "51f78573-8e3b-486c-c451-5fe43225db90",
        "colab": {
          "base_uri": "https://localhost:8080/"
        }
      },
      "execution_count": null,
      "outputs": [
        {
          "output_type": "stream",
          "name": "stdout",
          "text": [
            "Uploaded file: XXXXXXXXXXX2063.pdf\n"
          ]
        }
      ]
    },
    {
      "cell_type": "code",
      "source": [
        "input_path = \"XXXXXXXXXXX2063.pdf\"  # Path to the locked PDF file\n",
        "output_path = \"unlocked.pdf\"  # Path where the unlocked PDF will be saved\n"
      ],
      "metadata": {
        "id": "1EA05XD4WNuS"
      },
      "execution_count": null,
      "outputs": []
    },
    {
      "cell_type": "code",
      "source": [
        "pdf_password = \"AMIT0101\"\n"
      ],
      "metadata": {
        "id": "lMUhMrRgWNz6"
      },
      "execution_count": null,
      "outputs": []
    },
    {
      "cell_type": "code",
      "source": [
        "reader = PdfReader(input_path)  # Load the PDF file\n",
        "reader.decrypt(pdf_password)  # Decrypt the file using the password\n"
      ],
      "metadata": {
        "id": "UZKfGADSWN3j",
        "outputId": "e123d7a7-19ba-41bf-ec3e-fd1ac4c4c901",
        "colab": {
          "base_uri": "https://localhost:8080/"
        }
      },
      "execution_count": null,
      "outputs": [
        {
          "output_type": "execute_result",
          "data": {
            "text/plain": [
              "<PasswordType.OWNER_PASSWORD: 2>"
            ]
          },
          "metadata": {},
          "execution_count": 11
        }
      ]
    },
    {
      "cell_type": "code",
      "source": [
        "writer = PdfWriter()  # Initialize a writer to create a new PDF\n",
        "\n",
        "# Loop through all pages in the decrypted PDF\n",
        "for page in reader.pages:\n",
        "    writer.add_page(page)  # Add each page to the new PDF\n"
      ],
      "metadata": {
        "id": "o2mNyta-WN7A"
      },
      "execution_count": null,
      "outputs": []
    },
    {
      "cell_type": "code",
      "metadata": {
        "id": "HRFHv7OXjkGR"
      },
      "source": [
        "with open(output_path, \"wb\") as output_file:\n",
        "    writer.write(output_file)  # Write the unlocked PDF to disk\n"
      ],
      "execution_count": null,
      "outputs": []
    },
    {
      "cell_type": "code",
      "metadata": {
        "id": "8lsfVKbcjkGW"
      },
      "source": [],
      "execution_count": null,
      "outputs": []
    },
    {
      "cell_type": "code",
      "metadata": {
        "id": "W8UkX2IHjkGc"
      },
      "source": [],
      "execution_count": null,
      "outputs": []
    },
    {
      "cell_type": "code",
      "metadata": {
        "id": "2UpeOQ7qjkGg",
        "colab": {
          "base_uri": "https://localhost:8080/"
        },
        "outputId": "88cb689d-e5b8-4474-fdde-2b13f5ad5e6f"
      },
      "source": [
        "from PyPDF2 import PdfReader, PdfWriter\n",
        "\n",
        "# Paths for input and output files\n",
        "input_path = \"XXXXXXXXXXX2063.pdf\"  # Path to the locked PDF\n",
        "output_path = \"unlocked.pdf\"  # Path to save the unlocked PDF\n",
        "\n",
        "# PDF password\n",
        "pdf_password = \"AMIT0101\"\n",
        "\n",
        "try:\n",
        "    # Step 1: Read the locked PDF\n",
        "    reader = PdfReader(input_path)\n",
        "\n",
        "    # Step 2: Decrypt the PDF\n",
        "    if reader.decrypt(pdf_password):\n",
        "        print(\"PDF successfully decrypted!\")\n",
        "    else:\n",
        "        print(\"Wrong password. Please try again.\")\n",
        "        exit()\n",
        "\n",
        "    # Step 3: Create a new PDF writer\n",
        "    writer = PdfWriter()\n",
        "\n",
        "    # Step 4: Copy pages to the new writer\n",
        "    for page in reader.pages:\n",
        "        writer.add_page(page)\n",
        "\n",
        "    # Step 5: Save the unlocked PDF\n",
        "    with open(output_path, \"wb\") as output_file:\n",
        "        writer.write(output_file)\n",
        "\n",
        "    print(f\"Password removed! Unlocked PDF saved as: {output_path}\")\n",
        "except Exception as e:\n",
        "    print(f\"An error occurred: {e}\")\n"
      ],
      "execution_count": null,
      "outputs": [
        {
          "output_type": "stream",
          "name": "stdout",
          "text": [
            "PDF successfully decrypted!\n",
            "Password removed! Unlocked PDF saved as: unlocked.pdf\n"
          ]
        }
      ]
    },
    {
      "cell_type": "markdown",
      "metadata": {
        "id": "zxqe73yrjkGi"
      },
      "source": [
        "\n",
        "## <u>Problem 2 </u>\n",
        "\n",
        "### Measures of Averages\n",
        "\n",
        "* Mean of a group is defined as the sum of the elements in the group divided by the number of elements in the group.\n",
        "* Median is the middle number in a <b>sorted</b>, ascending or descending, list of numbers. If the list has $N$ numbers where $N$ is odd, then median is the element in the middle i.e, $(\\frac{N+1}{2})^{th}$ element. If $N$ is even, then median is the mean of $(\\frac{N}{2})^{th}$ and $(\\frac{N}{2}+1)^{th}$ element"
      ]
    },
    {
      "cell_type": "code",
      "metadata": {
        "id": "TNWp2uyVjkGi",
        "outputId": "9f50a360-8f44-4f66-a3da-f707701014c2",
        "colab": {
          "base_uri": "https://localhost:8080/",
          "height": 17
        }
      },
      "source": [
        "files.download('unlocked.pdf')"
      ],
      "execution_count": null,
      "outputs": [
        {
          "output_type": "display_data",
          "data": {
            "text/plain": [
              "<IPython.core.display.Javascript object>"
            ],
            "application/javascript": [
              "\n",
              "    async function download(id, filename, size) {\n",
              "      if (!google.colab.kernel.accessAllowed) {\n",
              "        return;\n",
              "      }\n",
              "      const div = document.createElement('div');\n",
              "      const label = document.createElement('label');\n",
              "      label.textContent = `Downloading \"${filename}\": `;\n",
              "      div.appendChild(label);\n",
              "      const progress = document.createElement('progress');\n",
              "      progress.max = size;\n",
              "      div.appendChild(progress);\n",
              "      document.body.appendChild(div);\n",
              "\n",
              "      const buffers = [];\n",
              "      let downloaded = 0;\n",
              "\n",
              "      const channel = await google.colab.kernel.comms.open(id);\n",
              "      // Send a message to notify the kernel that we're ready.\n",
              "      channel.send({})\n",
              "\n",
              "      for await (const message of channel.messages) {\n",
              "        // Send a message to notify the kernel that we're ready.\n",
              "        channel.send({})\n",
              "        if (message.buffers) {\n",
              "          for (const buffer of message.buffers) {\n",
              "            buffers.push(buffer);\n",
              "            downloaded += buffer.byteLength;\n",
              "            progress.value = downloaded;\n",
              "          }\n",
              "        }\n",
              "      }\n",
              "      const blob = new Blob(buffers, {type: 'application/binary'});\n",
              "      const a = document.createElement('a');\n",
              "      a.href = window.URL.createObjectURL(blob);\n",
              "      a.download = filename;\n",
              "      div.appendChild(a);\n",
              "      a.click();\n",
              "      div.remove();\n",
              "    }\n",
              "  "
            ]
          },
          "metadata": {}
        },
        {
          "output_type": "display_data",
          "data": {
            "text/plain": [
              "<IPython.core.display.Javascript object>"
            ],
            "application/javascript": [
              "download(\"download_d64a1641-9b8e-400f-a7c3-5678decfa3e7\", \"unlocked.pdf\", 762902)"
            ]
          },
          "metadata": {}
        }
      ]
    },
    {
      "cell_type": "code",
      "metadata": {
        "id": "KwenpH43jkGm",
        "colab": {
          "base_uri": "https://localhost:8080/"
        },
        "outputId": "89b337f3-4c37-49d1-d17f-6c085663d4a4"
      },
      "source": [
        "   !pip install pdf2image pytesseract\n",
        "!sudo apt install tesseract-ocr"
      ],
      "execution_count": null,
      "outputs": [
        {
          "output_type": "stream",
          "name": "stdout",
          "text": [
            "Collecting pdf2image\n",
            "  Downloading pdf2image-1.17.0-py3-none-any.whl.metadata (6.2 kB)\n",
            "Collecting pytesseract\n",
            "  Downloading pytesseract-0.3.13-py3-none-any.whl.metadata (11 kB)\n",
            "Requirement already satisfied: pillow in /usr/local/lib/python3.10/dist-packages (from pdf2image) (11.0.0)\n",
            "Requirement already satisfied: packaging>=21.3 in /usr/local/lib/python3.10/dist-packages (from pytesseract) (24.2)\n",
            "Downloading pdf2image-1.17.0-py3-none-any.whl (11 kB)\n",
            "Downloading pytesseract-0.3.13-py3-none-any.whl (14 kB)\n",
            "Installing collected packages: pytesseract, pdf2image\n",
            "Successfully installed pdf2image-1.17.0 pytesseract-0.3.13\n",
            "Reading package lists... Done\n",
            "Building dependency tree... Done\n",
            "Reading state information... Done\n",
            "The following additional packages will be installed:\n",
            "  tesseract-ocr-eng tesseract-ocr-osd\n",
            "The following NEW packages will be installed:\n",
            "  tesseract-ocr tesseract-ocr-eng tesseract-ocr-osd\n",
            "0 upgraded, 3 newly installed, 0 to remove and 49 not upgraded.\n",
            "Need to get 4,816 kB of archives.\n",
            "After this operation, 15.6 MB of additional disk space will be used.\n",
            "Get:1 http://archive.ubuntu.com/ubuntu jammy/universe amd64 tesseract-ocr-eng all 1:4.00~git30-7274cfa-1.1 [1,591 kB]\n",
            "Get:2 http://archive.ubuntu.com/ubuntu jammy/universe amd64 tesseract-ocr-osd all 1:4.00~git30-7274cfa-1.1 [2,990 kB]\n",
            "Get:3 http://archive.ubuntu.com/ubuntu jammy/universe amd64 tesseract-ocr amd64 4.1.1-2.1build1 [236 kB]\n",
            "Fetched 4,816 kB in 2s (2,643 kB/s)\n",
            "debconf: unable to initialize frontend: Dialog\n",
            "debconf: (No usable dialog-like program is installed, so the dialog based frontend cannot be used. at /usr/share/perl5/Debconf/FrontEnd/Dialog.pm line 78, <> line 3.)\n",
            "debconf: falling back to frontend: Readline\n",
            "debconf: unable to initialize frontend: Readline\n",
            "debconf: (This frontend requires a controlling tty.)\n",
            "debconf: falling back to frontend: Teletype\n",
            "dpkg-preconfigure: unable to re-open stdin: \n",
            "Selecting previously unselected package tesseract-ocr-eng.\n",
            "(Reading database ... 123630 files and directories currently installed.)\n",
            "Preparing to unpack .../tesseract-ocr-eng_1%3a4.00~git30-7274cfa-1.1_all.deb ...\n",
            "Unpacking tesseract-ocr-eng (1:4.00~git30-7274cfa-1.1) ...\n",
            "Selecting previously unselected package tesseract-ocr-osd.\n",
            "Preparing to unpack .../tesseract-ocr-osd_1%3a4.00~git30-7274cfa-1.1_all.deb ...\n",
            "Unpacking tesseract-ocr-osd (1:4.00~git30-7274cfa-1.1) ...\n",
            "Selecting previously unselected package tesseract-ocr.\n",
            "Preparing to unpack .../tesseract-ocr_4.1.1-2.1build1_amd64.deb ...\n",
            "Unpacking tesseract-ocr (4.1.1-2.1build1) ...\n",
            "Setting up tesseract-ocr-eng (1:4.00~git30-7274cfa-1.1) ...\n",
            "Setting up tesseract-ocr-osd (1:4.00~git30-7274cfa-1.1) ...\n",
            "Setting up tesseract-ocr (4.1.1-2.1build1) ...\n",
            "Processing triggers for man-db (2.10.2-1) ...\n"
          ]
        }
      ]
    },
    {
      "cell_type": "code",
      "source": [
        "!sudo apt install poppler-utils # Install poppler-utils, which contains pdfinfo"
      ],
      "metadata": {
        "id": "eNI_j9o5Zvm1",
        "outputId": "c7aad020-8497-484e-c50a-8eca66cdf17a",
        "colab": {
          "base_uri": "https://localhost:8080/"
        }
      },
      "execution_count": null,
      "outputs": [
        {
          "output_type": "stream",
          "name": "stdout",
          "text": [
            "Reading package lists... Done\n",
            "Building dependency tree... Done\n",
            "Reading state information... Done\n",
            "The following NEW packages will be installed:\n",
            "  poppler-utils\n",
            "0 upgraded, 1 newly installed, 0 to remove and 49 not upgraded.\n",
            "Need to get 186 kB of archives.\n",
            "After this operation, 696 kB of additional disk space will be used.\n",
            "Get:1 http://archive.ubuntu.com/ubuntu jammy-updates/main amd64 poppler-utils amd64 22.02.0-2ubuntu0.5 [186 kB]\n",
            "Fetched 186 kB in 1s (186 kB/s)\n",
            "debconf: unable to initialize frontend: Dialog\n",
            "debconf: (No usable dialog-like program is installed, so the dialog based frontend cannot be used. at /usr/share/perl5/Debconf/FrontEnd/Dialog.pm line 78, <> line 1.)\n",
            "debconf: falling back to frontend: Readline\n",
            "debconf: unable to initialize frontend: Readline\n",
            "debconf: (This frontend requires a controlling tty.)\n",
            "debconf: falling back to frontend: Teletype\n",
            "dpkg-preconfigure: unable to re-open stdin: \n",
            "Selecting previously unselected package poppler-utils.\n",
            "(Reading database ... 123677 files and directories currently installed.)\n",
            "Preparing to unpack .../poppler-utils_22.02.0-2ubuntu0.5_amd64.deb ...\n",
            "Unpacking poppler-utils (22.02.0-2ubuntu0.5) ...\n",
            "Setting up poppler-utils (22.02.0-2ubuntu0.5) ...\n",
            "Processing triggers for man-db (2.10.2-1) ...\n"
          ]
        }
      ]
    },
    {
      "cell_type": "code",
      "source": [
        "!pip install pdf2image pytesseract\n",
        "!sudo apt install tesseract-ocr\n",
        "!sudo apt install poppler-utils # Install poppler-utils\n",
        "\n",
        "from pdf2image import convert_from_path\n",
        "import pytesseract\n",
        "import os\n",
        "from docx import Document\n",
        "\n",
        "# Path to the PDF file\n",
        "pdf_path = 'unlocked.pdf'\n",
        "\n",
        "# Path to the Tesseract OCR executable (if not in your system's PATH)\n",
        "pytesseract.pytesseract.tesseract_cmd = r'/usr/bin/tesseract'\n",
        "\n",
        "# Convert PDF to images\n",
        "images = convert_from_path(pdf_path)\n",
        "\n",
        "# Create a Word document\n",
        "document = Document()\n",
        "\n",
        "# Process each image (page)\n",
        "for i, image in enumerate(images):\n",
        "    # Extract text using OCR\n",
        "    text = pytesseract.image_to_string(image, lang='eng')  # Set language if needed\n",
        "\n",
        "    # Clean the extracted text to remove invalid XML characters\n",
        "    text = ''.join(c for c in text if ord(c) >= 32 and ord(c) != 127) # remove NULL bytes and control characters\n",
        "\n",
        "\n",
        "    # Add the extracted text to the Word document\n",
        "    document.add_paragraph(text)\n",
        "\n",
        "# Save the Word document\n",
        "document.save('output.docx')\n",
        "print(\"PDF converted to Word successfully!\")"
      ],
      "metadata": {
        "id": "NTxHqnDnZxzy",
        "outputId": "8f9f152f-9171-420f-9c75-4c353d49d8f8",
        "colab": {
          "base_uri": "https://localhost:8080/"
        }
      },
      "execution_count": null,
      "outputs": [
        {
          "output_type": "stream",
          "name": "stdout",
          "text": [
            "Requirement already satisfied: pdf2image in /usr/local/lib/python3.10/dist-packages (1.17.0)\n",
            "Requirement already satisfied: pytesseract in /usr/local/lib/python3.10/dist-packages (0.3.13)\n",
            "Requirement already satisfied: pillow in /usr/local/lib/python3.10/dist-packages (from pdf2image) (11.0.0)\n",
            "Requirement already satisfied: packaging>=21.3 in /usr/local/lib/python3.10/dist-packages (from pytesseract) (24.2)\n",
            "Reading package lists... Done\n",
            "Building dependency tree... Done\n",
            "Reading state information... Done\n",
            "tesseract-ocr is already the newest version (4.1.1-2.1build1).\n",
            "0 upgraded, 0 newly installed, 0 to remove and 49 not upgraded.\n",
            "Reading package lists... Done\n",
            "Building dependency tree... Done\n",
            "Reading state information... Done\n",
            "poppler-utils is already the newest version (22.02.0-2ubuntu0.5).\n",
            "0 upgraded, 0 newly installed, 0 to remove and 49 not upgraded.\n",
            "PDF converted to Word successfully!\n"
          ]
        }
      ]
    },
    {
      "cell_type": "code",
      "source": [
        "from google.colab import files\n",
        "\n",
        "files.download('output.docx')"
      ],
      "metadata": {
        "id": "3wFF2l5_Zx3r",
        "outputId": "5c6fa4b4-f57e-4b2a-a300-176e7c2d31a5",
        "colab": {
          "base_uri": "https://localhost:8080/",
          "height": 17
        }
      },
      "execution_count": null,
      "outputs": [
        {
          "output_type": "display_data",
          "data": {
            "text/plain": [
              "<IPython.core.display.Javascript object>"
            ],
            "application/javascript": [
              "\n",
              "    async function download(id, filename, size) {\n",
              "      if (!google.colab.kernel.accessAllowed) {\n",
              "        return;\n",
              "      }\n",
              "      const div = document.createElement('div');\n",
              "      const label = document.createElement('label');\n",
              "      label.textContent = `Downloading \"${filename}\": `;\n",
              "      div.appendChild(label);\n",
              "      const progress = document.createElement('progress');\n",
              "      progress.max = size;\n",
              "      div.appendChild(progress);\n",
              "      document.body.appendChild(div);\n",
              "\n",
              "      const buffers = [];\n",
              "      let downloaded = 0;\n",
              "\n",
              "      const channel = await google.colab.kernel.comms.open(id);\n",
              "      // Send a message to notify the kernel that we're ready.\n",
              "      channel.send({})\n",
              "\n",
              "      for await (const message of channel.messages) {\n",
              "        // Send a message to notify the kernel that we're ready.\n",
              "        channel.send({})\n",
              "        if (message.buffers) {\n",
              "          for (const buffer of message.buffers) {\n",
              "            buffers.push(buffer);\n",
              "            downloaded += buffer.byteLength;\n",
              "            progress.value = downloaded;\n",
              "          }\n",
              "        }\n",
              "      }\n",
              "      const blob = new Blob(buffers, {type: 'application/binary'});\n",
              "      const a = document.createElement('a');\n",
              "      a.href = window.URL.createObjectURL(blob);\n",
              "      a.download = filename;\n",
              "      div.appendChild(a);\n",
              "      a.click();\n",
              "      div.remove();\n",
              "    }\n",
              "  "
            ]
          },
          "metadata": {}
        },
        {
          "output_type": "display_data",
          "data": {
            "text/plain": [
              "<IPython.core.display.Javascript object>"
            ],
            "application/javascript": [
              "download(\"download_abba86a2-5be6-4b8d-b59b-a0f01cb6a339\", \"output.docx\", 47124)"
            ]
          },
          "metadata": {}
        }
      ]
    },
    {
      "cell_type": "markdown",
      "source": [],
      "metadata": {
        "id": "YmCNBUJ0Zx7q"
      }
    },
    {
      "cell_type": "code",
      "source": [
        "def find_longest_palindrome(word):\n",
        "    n = len(word)\n",
        "    longest_palindrome = \"\"\n",
        "\n",
        "    # Check all substrings\n",
        "    for i in range(n):\n",
        "        for j in range(i, n):\n",
        "            substring = word[i:j+1]\n",
        "            # Check if the substring is a palindrome\n",
        "            if substring == substring[::-1]:\n",
        "                # Update longest_palindrome if a longer palindrome is found\n",
        "                if len(substring) > len(longest_palindrome):\n",
        "                    longest_palindrome = substring\n",
        "    return longest_palindrome\n",
        "\n",
        "# Example input\n",
        "input_word = \"sdfdfbbabhfgdgdf\"\n",
        "output = find_longest_palindrome(input_word)\n",
        "print(\"Input:\", input_word)\n",
        "print(\"Longest Palindrome:\", output)\n"
      ],
      "metadata": {
        "id": "DuLiwXq-ZyEj",
        "outputId": "63238a4e-9ec8-407d-8943-26b247d46ced",
        "colab": {
          "base_uri": "https://localhost:8080/"
        }
      },
      "execution_count": null,
      "outputs": [
        {
          "output_type": "stream",
          "name": "stdout",
          "text": [
            "Input: sdfdfbbabhfgdgdf\n",
            "Longest Palindrome: dfd\n"
          ]
        }
      ]
    },
    {
      "cell_type": "markdown",
      "metadata": {
        "id": "gTojysiqjkGr"
      },
      "source": [
        "### Calculate the median price"
      ]
    },
    {
      "cell_type": "code",
      "metadata": {
        "id": "5SBpWBGEjkGr",
        "colab": {
          "base_uri": "https://localhost:8080/"
        },
        "outputId": "614fc4f9-004e-49ab-9e7c-4929f27d0fc8"
      },
      "source": [
        "def find_all_palindromes(word):\n",
        "    n = len(word)\n",
        "    palindromes = set()  # Use a set to avoid duplicates\n",
        "\n",
        "    # Check all substrings\n",
        "    for i in range(n):\n",
        "        for j in range(i, n):\n",
        "            substring = word[i:j+1]\n",
        "            # Check if the substring is a palindrome\n",
        "            if substring == substring[::-1] and len(substring) > 1:\n",
        "                palindromes.add(substring)  # Add palindrome to the set\n",
        "    return list(palindromes)\n",
        "\n",
        "# Example input\n",
        "input_word = \"sdfdfbbabhfgdgdf\"\n",
        "palindromes = find_all_palindromes(input_word)\n",
        "print(\"Input:\", input_word)\n",
        "print(\"Palindromes:\", palindromes)\n"
      ],
      "execution_count": null,
      "outputs": [
        {
          "output_type": "stream",
          "name": "stdout",
          "text": [
            "Input: sdfdfbbabhfgdgdf\n",
            "Palindromes: ['fdf', 'gdg', 'dgd', 'dfd', 'bab', 'bb']\n"
          ]
        }
      ]
    },
    {
      "cell_type": "code",
      "metadata": {
        "id": "29eoJETXjkGu",
        "colab": {
          "base_uri": "https://localhost:8080/"
        },
        "outputId": "272d5e7f-6a75-438b-a723-30d4b2663112"
      },
      "source": [
        "def min_insertions_to_palindrome(word):\n",
        "    def is_palindrome(s):\n",
        "        return s == s[::-1]\n",
        "\n",
        "    # Start with the original word\n",
        "    additions = 0\n",
        "    while not is_palindrome(word):\n",
        "        # Add the first character of the reversed word to the original\n",
        "        word = word[:-1] + word[-1] + word[:-1][::-1]\n",
        "        additions += 1\n",
        "    return additions\n",
        "\n",
        "inputword = \"abdcbg\"\n",
        "\n"
      ],
      "execution_count": null,
      "outputs": [
        {
          "output_type": "stream",
          "name": "stdout",
          "text": [
            "Minimum number of insertions to make 'abdcbg' a palindrome: 1\n"
          ]
        }
      ]
    },
    {
      "cell_type": "code",
      "metadata": {
        "id": "RiafM7R_jkGy",
        "colab": {
          "base_uri": "https://localhost:8080/"
        },
        "outputId": "daf7125c-9343-468d-8b2f-00999b9ebfdb"
      },
      "source": [
        "def min_removals_to_palindrome(word):\n",
        "    def is_palindrome(s):\n",
        "        return s == s[::-1]\n",
        "\n",
        "    # Two-pointer technique to find characters to remove\n",
        "    left, right = 0, len(word) - 1\n",
        "    removals = 0\n",
        "    removal_indices = []\n",
        "\n",
        "    while left < right:\n",
        "        if word[left] == word[right]:\n",
        "            left += 1\n",
        "            right -= 1\n",
        "        elif word[left] != word[right]:\n",
        "            # Prefer removing the character that might make the string palindrome sooner\n",
        "            if word[left:right] == word[left:right][::-1]:\n",
        "                removal_indices.append(right)\n",
        "                right -= 1\n",
        "            else:\n",
        "                removal_indices.append(left)\n",
        "                left += 1\n",
        "            removals += 1\n",
        "\n",
        "    return removals, removal_indices\n",
        "\n",
        "\n",
        "# Example input\n",
        "input_word = \"abcbas\"\n",
        "removals, indices = min_removals_to_palindrome(input_word)\n",
        "print(\"Input:\", input_word)\n",
        "print(\"Minimum removals needed to make it a palindrome:\", removals)\n",
        "print(\"Indices of characters to remove:\", indices)\n"
      ],
      "execution_count": null,
      "outputs": [
        {
          "output_type": "stream",
          "name": "stdout",
          "text": [
            "Input: abcbas\n",
            "Minimum removals needed to make it a palindrome: 1\n",
            "Indices of characters to remove: [5]\n"
          ]
        }
      ]
    },
    {
      "cell_type": "code",
      "metadata": {
        "id": "brysk47ojkG0"
      },
      "source": [
        "from itertools import combinations_with_replacement\n",
        "from math import prod"
      ],
      "execution_count": null,
      "outputs": []
    },
    {
      "cell_type": "markdown",
      "metadata": {
        "id": "jB0y0UdbjkG3"
      },
      "source": [
        "### Why do you think that is the case??"
      ]
    },
    {
      "cell_type": "markdown",
      "metadata": {
        "id": "J3x3tmzTjkG3"
      },
      "source": [
        "## <u> Problem 3 </u>\n",
        "\n",
        "Having a nested list sometimes might be a bit problematic. An individual was asked to collect the names of companies in the technology sector. While creating the list, by mistake the last three companies were subsumed in a list as shown below. You are required to get rid of the nesting"
      ]
    },
    {
      "cell_type": "code",
      "metadata": {
        "id": "6IbY26WqjkG4",
        "outputId": "4ed29815-dd48-4656-87dc-4e123fb6979f",
        "colab": {
          "base_uri": "https://localhost:8080/"
        }
      },
      "source": [
        "\n",
        "\n",
        "def is_prime(num):\n",
        "    \"\"\"Check if a number is a prime number.\"\"\"\n",
        "    if num < 2:\n",
        "        return False\n",
        "    for i in range(2, int(num**0.5) + 1):\n",
        "        if num % i == 0:\n",
        "            return False\n",
        "    return True\n",
        "\n",
        "def find_product_codes(n):\n",
        "    \"\"\"Find all product codes between 1 and n formed by multiplying exactly three prime numbers.\"\"\"\n",
        "    # Step 1: Generate a list of primes less than or equal to n\n",
        "    primes = [i for i in range(2, n + 1) if is_prime(i)]\n",
        "\n",
        "    # Step 2: Generate combinations of primes of length 3 with replacement\n",
        "    prime_combinations = combinations_with_replacement(primes, 3)\n",
        "\n",
        "    # Step 3: Check if the product of the primes is within the range\n",
        "    valid_codes = []\n",
        "    for combo in prime_combinations:\n",
        "        product = prod(combo)\n",
        "        if product <= n:\n",
        "            valid_codes.append(list(combo))\n",
        "\n",
        "    return valid_codes\n",
        "\n",
        "# Input\n",
        "n = int(input(\"Enter the maximum product code number: \"))\n",
        "\n",
        "# Find and print results\n",
        "result = find_product_codes(n)\n",
        "print(result)\n"
      ],
      "execution_count": null,
      "outputs": [
        {
          "output_type": "stream",
          "name": "stdout",
          "text": [
            "Enter the maximum product code number: 20\n",
            "[[2, 2, 2], [2, 2, 3], [2, 2, 5], [2, 3, 3]]\n"
          ]
        }
      ]
    },
    {
      "cell_type": "code",
      "source": [
        "from itertools import permutations\n",
        "from math import prod\n",
        "\n",
        "def is_prime(num):\n",
        "    \"\"\"Check if a number is a prime number.\"\"\"\n",
        "    if num < 2:\n",
        "        return False\n",
        "    for i in range(2, int(num**0.5) + 1):\n",
        "        if num % i == 0:\n",
        "            return False\n",
        "    return True\n",
        "\n",
        "def find_product_codes(n):\n",
        "    \"\"\"Find all product codes between 1 and n formed by multiplying exactly three prime numbers.\"\"\"\n",
        "    # Step 1: Generate a list of primes less than or equal to n\n",
        "    primes = [i for i in range(2, n + 1) if is_prime(i)]\n",
        "\n",
        "    # Step 2: Generate all permutations of three primes (allowing repetition)\n",
        "    valid_codes = []\n",
        "    for perm in permutations(primes * 3, 3):  # Allow duplicates of primes by repeating the list\n",
        "        if perm not in valid_codes and prod(perm) <= n:\n",
        "            valid_codes.append(list(perm))\n",
        "\n",
        "    return valid_codes\n",
        "\n",
        "# Input\n",
        "n = int(input(\"Enter the maximum product code number: \"))\n",
        "\n",
        "# Find and print results\n",
        "result = find_product_codes(n)\n",
        "print(result)\n"
      ],
      "metadata": {
        "id": "Gsan0O_weUel",
        "outputId": "ebbd9532-3f92-4c4a-8379-12e5693eb349",
        "colab": {
          "base_uri": "https://localhost:8080/"
        }
      },
      "execution_count": null,
      "outputs": [
        {
          "output_type": "stream",
          "name": "stdout",
          "text": [
            "Enter the maximum product code number: 20\n",
            "[[2, 3, 2], [2, 3, 3], [2, 3, 2], [2, 3, 3], [2, 5, 2], [2, 5, 2], [2, 2, 3], [2, 2, 5], [2, 2, 3], [2, 2, 5], [2, 2, 2], [2, 2, 3], [2, 2, 5], [2, 3, 3], [2, 3, 2], [2, 3, 2], [2, 3, 3], [2, 5, 2], [2, 5, 2], [2, 2, 3], [2, 2, 5], [2, 2, 2], [2, 2, 3], [2, 2, 5], [2, 2, 3], [2, 2, 5], [2, 3, 3], [2, 3, 2], [2, 3, 3], [2, 3, 2], [2, 5, 2], [2, 5, 2], [3, 2, 2], [3, 2, 3], [3, 2, 2], [3, 2, 3], [3, 2, 2], [3, 2, 3], [3, 2, 2], [3, 2, 3], [3, 3, 2], [3, 3, 2], [3, 3, 2], [3, 2, 2], [3, 2, 2], [3, 2, 3], [3, 2, 3], [3, 3, 2], [3, 3, 2], [3, 3, 2], [5, 2, 2], [5, 2, 2], [5, 2, 2], [5, 2, 2], [5, 2, 2], [5, 2, 2], [2, 2, 3], [2, 2, 5], [2, 2, 3], [2, 2, 5], [2, 2, 2], [2, 2, 3], [2, 2, 5], [2, 3, 2], [2, 3, 3], [2, 3, 2], [2, 3, 3], [2, 5, 2], [2, 5, 2], [2, 3, 2], [2, 3, 3], [2, 3, 2], [2, 3, 3], [2, 5, 2], [2, 5, 2], [2, 2, 2], [2, 2, 3], [2, 2, 5], [2, 2, 3], [2, 2, 5], [2, 2, 3], [2, 2, 5], [2, 3, 2], [2, 3, 3], [2, 3, 3], [2, 3, 2], [2, 5, 2], [2, 5, 2], [3, 2, 3], [3, 2, 2], [3, 2, 2], [3, 2, 3], [3, 3, 2], [3, 3, 2], [3, 3, 2], [3, 2, 2], [3, 2, 3], [3, 2, 2], [3, 2, 3], [3, 2, 2], [3, 2, 3], [3, 2, 2], [3, 2, 3], [3, 3, 2], [3, 3, 2], [3, 3, 2], [5, 2, 2], [5, 2, 2], [5, 2, 2], [5, 2, 2], [5, 2, 2], [5, 2, 2], [2, 2, 3], [2, 2, 5], [2, 2, 2], [2, 2, 3], [2, 2, 5], [2, 2, 3], [2, 2, 5], [2, 3, 2], [2, 3, 2], [2, 3, 3], [2, 3, 3], [2, 5, 2], [2, 5, 2], [2, 2, 2], [2, 2, 3], [2, 2, 5], [2, 2, 3], [2, 2, 5], [2, 2, 3], [2, 2, 5], [2, 3, 2], [2, 3, 3], [2, 3, 2], [2, 3, 3], [2, 5, 2], [2, 5, 2], [2, 3, 2], [2, 3, 3], [2, 3, 2], [2, 3, 3], [2, 5, 2], [2, 5, 2], [3, 2, 3], [3, 2, 2], [3, 2, 3], [3, 2, 2], [3, 3, 2], [3, 3, 2], [3, 3, 2], [3, 2, 2], [3, 2, 3], [3, 2, 3], [3, 2, 2], [3, 3, 2], [3, 3, 2], [3, 3, 2], [3, 2, 2], [3, 2, 3], [3, 2, 2], [3, 2, 3], [5, 2, 2], [5, 2, 2], [5, 2, 2], [5, 2, 2], [5, 2, 2], [5, 2, 2]]\n"
          ]
        }
      ]
    },
    {
      "cell_type": "code",
      "metadata": {
        "id": "anVH03bTjkG7",
        "colab": {
          "base_uri": "https://localhost:8080/"
        },
        "outputId": "5676e327-5b8e-4a0b-b04f-d5e78b5970f3"
      },
      "source": [
        "from itertools import permutations\n",
        "from math import prod\n",
        "\n",
        "def is_prime(num):\n",
        "    \"\"\"Check if a number is a prime number.\"\"\"\n",
        "    if num < 2:\n",
        "        return False\n",
        "    for i in range(2, int(num**0.5) + 1):\n",
        "        if num % i == 0:\n",
        "            return False\n",
        "    return True\n",
        "\n",
        "def find_product_codes(n):\n",
        "    \"\"\"Find all product codes between 1 and n formed by multiplying exactly three prime numbers.\"\"\"\n",
        "    # Step 1: Generate a list of primes less than or equal to n\n",
        "    primes = [i for i in range(2, n + 1) if is_prime(i)]\n",
        "\n",
        "    # Step 2: Generate all permutations of three primes (allowing repetition)\n",
        "    unique_combinations = set()\n",
        "    for perm in permutations(primes * 3, 3):  # Allow duplicates of primes by repeating the list\n",
        "        if prod(perm) <= n:\n",
        "            # Add sorted tuple of the combination to ensure uniqueness\n",
        "            unique_combinations.add(tuple(sorted(perm)))\n",
        "\n",
        "    # Convert back to a list of lists for the output\n",
        "    return [list(combo) for combo in unique_combinations]\n",
        "\n",
        "# Input\n",
        "n = int(input(\"Enter the maximum product code number: \"))\n",
        "\n",
        "# Find and print results\n",
        "result = find_product_codes(n)\n",
        "print(result)\n"
      ],
      "execution_count": null,
      "outputs": [
        {
          "output_type": "stream",
          "name": "stdout",
          "text": [
            "Enter the maximum product code number: 20\n",
            "[[2, 2, 3], [2, 2, 5], [2, 3, 3], [2, 2, 2]]\n"
          ]
        }
      ]
    },
    {
      "cell_type": "code",
      "metadata": {
        "id": "BsVsotOGjkG_",
        "outputId": "fb8cbbc7-eec2-4d25-aba6-be434d14a696",
        "colab": {
          "base_uri": "https://localhost:8080/"
        }
      },
      "source": [
        "#Define function\n",
        "def test(n):\n",
        "#Use list comprehension to first generate prime numbers less than given number(n)\n",
        "    ps = [p for p in range(2,n) if all(p % sat != 0 for sat in range(2, p))]\n",
        "    return [[p, q, r] for p in ps for q in ps for r in ps if p*q*r <= n]   # find all the possible combinations of three prime numbers  and find the product of each combination.return combination which has product less than or equal to n\n",
        "n = int(input())\n",
        "\n",
        "print(test(n))\n",
        "print(ps)"
      ],
      "execution_count": null,
      "outputs": [
        {
          "output_type": "stream",
          "name": "stdout",
          "text": [
            "20\n",
            "[[2, 2, 2], [2, 2, 3], [2, 2, 5], [2, 3, 2], [2, 3, 3], [2, 5, 2], [3, 2, 2], [3, 2, 3], [3, 3, 2], [5, 2, 2]]\n",
            "[2, 3, 5, 7, 11, 13, 17, 19]\n"
          ]
        }
      ]
    },
    {
      "cell_type": "code",
      "metadata": {
        "id": "zzSObwLO86i4",
        "colab": {
          "base_uri": "https://localhost:8080/"
        },
        "outputId": "e9db9b16-aef2-4a1f-9499-82b14621602c"
      },
      "source": [
        "n = 20\n",
        "ps = [p for p in range(2,n) if all(p % x != 0 for x in range(2, p))]\n",
        "print(ps)"
      ],
      "execution_count": null,
      "outputs": [
        {
          "output_type": "stream",
          "name": "stdout",
          "text": [
            "[2, 3, 5, 7, 11, 13, 17, 19]\n"
          ]
        }
      ]
    },
    {
      "cell_type": "code",
      "source": [
        "def mx(n):\n",
        "    prime_s = [p for p in range(2, n) if all(p % x != 0 for x in range(2, p))]\n",
        "    return [[a,b,c] for a in prime_s for b in prime_s for c in prime_s if a * b * c <= n]\n",
        "\n",
        "print(mx(20))"
      ],
      "metadata": {
        "id": "7K5k7KBzhu3N",
        "outputId": "c364888b-d5e8-405c-9cad-05894a0168ce",
        "colab": {
          "base_uri": "https://localhost:8080/"
        }
      },
      "execution_count": null,
      "outputs": [
        {
          "output_type": "stream",
          "name": "stdout",
          "text": [
            "[[2, 2, 2], [2, 2, 3], [2, 2, 5], [2, 3, 2], [2, 3, 3], [2, 5, 2], [3, 2, 2], [3, 2, 3], [3, 3, 2], [5, 2, 2]]\n"
          ]
        }
      ]
    },
    {
      "cell_type": "code",
      "source": [
        "n = int(input())\n",
        "#define function\n",
        "def test(n):\n",
        "    prime_s = [p for p in range(2, n) if all(p % x != 0 for x in range(2, p))]\n",
        "    return [[a,b,c] for a in prime_s for b in prime_s for c in prime_s if a * b * c <= n]\n",
        "\n",
        "print(test(n))"
      ],
      "metadata": {
        "id": "L21gYDGri6gi",
        "outputId": "57ba4446-d795-48f5-8a33-a4a630e0009e",
        "colab": {
          "base_uri": "https://localhost:8080/"
        }
      },
      "execution_count": null,
      "outputs": [
        {
          "output_type": "stream",
          "name": "stdout",
          "text": [
            "20\n",
            "[[2, 2, 2], [2, 2, 3], [2, 2, 5], [2, 3, 2], [2, 3, 3], [2, 5, 2], [3, 2, 2], [3, 2, 3], [3, 3, 2], [5, 2, 2]]\n"
          ]
        }
      ]
    },
    {
      "cell_type": "code",
      "source": [
        "z = ['abc','acb']\n",
        "for y , x in enumerate(z):\n",
        "  print(y , x)"
      ],
      "metadata": {
        "id": "zeimjVylkm8x",
        "outputId": "b45f7f0f-1e96-49d8-88c7-d74accb2a3d8",
        "colab": {
          "base_uri": "https://localhost:8080/"
        }
      },
      "execution_count": null,
      "outputs": [
        {
          "output_type": "stream",
          "name": "stdout",
          "text": [
            "0 abc\n",
            "1 acb\n"
          ]
        }
      ]
    },
    {
      "cell_type": "code",
      "source": [
        "def find_closest_temperatures_indices(temp):\n",
        "  for i in temp:\n",
        "    x = temp[i]\n",
        "    for j in i:\n",
        "      y = temp[j]\n",
        "      z = i - j\n",
        "      if\n"
      ],
      "metadata": {
        "id": "sAbmgmpVzLoS",
        "outputId": "86122b1f-c0ee-4387-dce4-9523d51973e7",
        "colab": {
          "base_uri": "https://localhost:8080/"
        }
      },
      "execution_count": null,
      "outputs": [
        {
          "output_type": "stream",
          "name": "stdout",
          "text": [
            "[7, 9]\n"
          ]
        }
      ]
    },
    {
      "cell_type": "code",
      "source": [
        "def test(s):  # Define a function 'test' that takes a string 's' as input.\n",
        "    odd = 0  # Initialize a variable 'odd' to count mismatched characters.\n",
        "\n",
        "    # Loop through the string to compare each character with its corresponding character from the end.\n",
        "    for i, c in enumerate(s):\n",
        "        if c != s[~i]:  # '~i' is used to get the corresponding character from the end of the string.\n",
        "            odd += 1  # Increment 'odd' if the characters don't match, indicating it's not a palindrome.\n",
        "\n",
        "    # If there are an odd number of mismatches.\n",
        "    if odd % 2 == 1:\n",
        "        half = odd // 2  # Calculate half of the odd mismatches (integer division).\n",
        "        # Create a palindrome by fixing the characters from the beginning of the string until the 'half' point.\n",
        "        pal = \"\".join((s[i] if i < half else s[~i] for i in range(len(s))))\n",
        "        return pal  # Return the resulting palindrome.\n",
        "\n",
        "    else:  # If the number of mismatches is even.\n",
        "        half = odd // 2  # Calculate half of the even mismatches (integer division).\n",
        "        # Create a palindrome by fixing characters from the beginning until the half point, including it.\n",
        "        pal = \"\".join((s[i] if i <= half else s[~i] for i in range(len(s))))\n",
        "        return pal  # Return the resulting palindrome.\n",
        "\n",
        "s = input()  # Take user input as a string 's'.\n",
        "print(test(s))  # Call the 'test' function with the input string and print the closest palindrome."
      ],
      "metadata": {
        "id": "Fdkrycdoq-og",
        "outputId": "ae6ccb53-361b-4018-baac-81b77b4761d6",
        "colab": {
          "base_uri": "https://localhost:8080/"
        }
      },
      "execution_count": null,
      "outputs": [
        {
          "output_type": "stream",
          "name": "stdout",
          "text": [
            "madan\n",
            "madam\n"
          ]
        }
      ]
    },
    {
      "cell_type": "code",
      "source": [],
      "metadata": {
        "id": "hOPr4rq1ud6r"
      },
      "execution_count": null,
      "outputs": []
    },
    {
      "cell_type": "code",
      "source": [
        "n = input()\n",
        "def a(n):\n",
        "  # Get the length of the input string\n",
        "  n_len = len(str(n))\n",
        "  # Create a list of numbers from 0 to n_len - 1\n",
        "  ps = list(range(n_len))\n",
        "  # Use ps for the list comprehensions\n",
        "  return [[p,q,r] for p in ps for q in ps for r in ps]\n",
        "\n",
        "print(a(n))"
      ],
      "metadata": {
        "id": "MZFHUqyQueOG",
        "outputId": "4a5cd7a6-b1ba-4dbe-b69f-5584de7eed6b",
        "colab": {
          "base_uri": "https://localhost:8080/"
        }
      },
      "execution_count": null,
      "outputs": [
        {
          "output_type": "stream",
          "name": "stdout",
          "text": [
            "123\n",
            "[[0, 0, 0], [0, 0, 1], [0, 0, 2], [0, 1, 0], [0, 1, 1], [0, 1, 2], [0, 2, 0], [0, 2, 1], [0, 2, 2], [1, 0, 0], [1, 0, 1], [1, 0, 2], [1, 1, 0], [1, 1, 1], [1, 1, 2], [1, 2, 0], [1, 2, 1], [1, 2, 2], [2, 0, 0], [2, 0, 1], [2, 0, 2], [2, 1, 0], [2, 1, 1], [2, 1, 2], [2, 2, 0], [2, 2, 1], [2, 2, 2]]\n"
          ]
        }
      ]
    },
    {
      "cell_type": "code",
      "source": [
        "z = str(123)\n",
        "# Assuming you want to check if 'y' is present in 'y' for each character in z.\n",
        "x = [y for y in z]\n",
        "print(x)"
      ],
      "metadata": {
        "id": "xYWSezlLu8d5",
        "outputId": "852e1953-b949-47b3-e1cb-912b07b655ef",
        "colab": {
          "base_uri": "https://localhost:8080/"
        }
      },
      "execution_count": null,
      "outputs": [
        {
          "output_type": "stream",
          "name": "stdout",
          "text": [
            "['1', '2', '3']\n"
          ]
        }
      ]
    },
    {
      "cell_type": "code",
      "source": [
        "def u(n):\n",
        "  ps = [p for p in str(n)]\n",
        "  return [[a , b , c] for a in ps for b in ps for c in ps]\n",
        "\n",
        "print(u(197))\n"
      ],
      "metadata": {
        "id": "TmSQXQMQu_IT",
        "outputId": "be043913-5e22-4c4f-b68d-754aa70821d8",
        "colab": {
          "base_uri": "https://localhost:8080/"
        }
      },
      "execution_count": null,
      "outputs": [
        {
          "output_type": "stream",
          "name": "stdout",
          "text": [
            "[['1', '1', '1'], ['1', '1', '2'], ['1', '1', '3'], ['1', '2', '1'], ['1', '2', '2'], ['1', '2', '3'], ['1', '3', '1'], ['1', '3', '2'], ['1', '3', '3'], ['2', '1', '1'], ['2', '1', '2'], ['2', '1', '3'], ['2', '2', '1'], ['2', '2', '2'], ['2', '2', '3'], ['2', '3', '1'], ['2', '3', '2'], ['2', '3', '3'], ['3', '1', '1'], ['3', '1', '2'], ['3', '1', '3'], ['3', '2', '1'], ['3', '2', '2'], ['3', '2', '3'], ['3', '3', '1'], ['3', '3', '2'], ['3', '3', '3']]\n"
          ]
        }
      ]
    },
    {
      "cell_type": "markdown",
      "source": [],
      "metadata": {
        "id": "Nhi_8Po0w9Wp"
      }
    },
    {
      "cell_type": "code",
      "source": [
        "def find_closest_pair(nums):\n",
        "    # 'closest_inds' will store the indices of the closest pair of numbers.\n",
        "    # Initially set to None since we haven't found any pair yet.\n",
        "    closest_inds = None\n",
        "\n",
        "    # 'closest_dist' will store the smallest distance (difference) between two numbers.\n",
        "    # It is initialized as None to track the first comparison.\n",
        "    closest_dist = None\n",
        "\n",
        "    # Outer loop: Iterating through the list of numbers 'nums' to get each number's index and value.\n",
        "    for ind, num in enumerate(nums):\n",
        "\n",
        "        # Inner loop: Comparing 'num' with every other number in the list.\n",
        "        for other_ind, num2 in enumerate(nums):\n",
        "\n",
        "            # If the two numbers are not the same (to avoid comparing a number with itself)\n",
        "            # AND if either 'closest_dist' is None (first comparison)\n",
        "            # OR the difference between the current pair is smaller than the stored 'closest_dist'\n",
        "            if num != num2 and ((closest_dist is None) or abs(num - num2) < closest_dist):\n",
        "\n",
        "                # Update 'closest_dist' with the new smaller difference.\n",
        "                closest_dist = abs(num - num2)\n",
        "\n",
        "                # Update 'closest_inds' to store the indices of the current closest pair of numbers.\n",
        "                closest_inds = [ind, other_ind]\n",
        "\n",
        "                # Check if the first number 'num' is less than or equal to 'num2'.\n",
        "                # If true, keep 'ind' as the first index and 'other_ind' as the second index.\n",
        "                if num <= num2:\n",
        "                    closest_inds = [ind, other_ind]\n",
        "\n",
        "                # If 'num' is greater than 'num2', reverse the order of indices.\n",
        "                else:\n",
        "                    closest_inds = [other_ind, ind]\n",
        "\n",
        "    # After both loops finish, return the indices of the closest pair of numbers.\n",
        "    return closest_inds\n",
        "\n",
        "# Example list of numbers to test the function\n",
        "nums = eval(input())\n",
        "\n",
        "# Output the indices of the closest pair of numbers from the list.\n",
        "print(find_closest_pair(nums))\n"
      ],
      "metadata": {
        "colab": {
          "base_uri": "https://localhost:8080/"
        },
        "id": "nZnks9lWrBO5",
        "outputId": "8748b953-88a6-491a-bbb4-3832795bd842"
      },
      "execution_count": null,
      "outputs": [
        {
          "output_type": "stream",
          "name": "stdout",
          "text": [
            "[1, 7, 9, 2, 10]\n",
            "[0, 3]\n"
          ]
        }
      ]
    },
    {
      "cell_type": "code",
      "source": [
        "Input:\n",
        "[7, 2, 10, 4, 8]\n",
        "\n",
        "Output:\n",
        "[2, 10, 4, 8, 7]"
      ],
      "metadata": {
        "id": "hH_Z8eLLrBYG"
      },
      "execution_count": null,
      "outputs": []
    },
    {
      "cell_type": "code",
      "source": [
        "def strange_sort(nums):\n",
        "    # Sort the list in ascending order\n",
        "    nums.sort()\n",
        "    result = []\n",
        "\n",
        "    # Use two pointers to pick numbers from both ends\n",
        "    left, right = 0, len(nums) - 1\n",
        "    while left <= right:\n",
        "        if left == right:  # If pointers meet, pick the last remaining number\n",
        "            result.append(nums[left])\n",
        "        else:\n",
        "            result.append(nums[left])  # Smallest number\n",
        "            result.append(nums[right])  # Largest number\n",
        "        left += 1\n",
        "        right -= 1\n",
        "\n",
        "    return result\n",
        "\n",
        "# Example 1\n",
        "nums = [5, 2, 9, 3, 8, 1]\n",
        "print(\"Original List:\", nums)\n",
        "print(\"Strange Sort:\", strange_sort(nums))\n"
      ],
      "metadata": {
        "id": "CNs9FRKxrBc2"
      },
      "execution_count": null,
      "outputs": []
    },
    {
      "cell_type": "code",
      "source": [
        "def oxy(numb):\n",
        "  numb.sort(reverse=True)\n",
        "  z = []\n",
        "  first, secund = 0 , len(numb) - 1\n"
      ],
      "metadata": {
        "id": "HHFBeEUfrBg8"
      },
      "execution_count": null,
      "outputs": []
    },
    {
      "cell_type": "code",
      "source": [
        "x = [1,3,4,6,3,6,7,5]\n",
        "x.sort(reverse = True)\n",
        "print(x)"
      ],
      "metadata": {
        "colab": {
          "base_uri": "https://localhost:8080/"
        },
        "id": "qWJ5vGy2rBkp",
        "outputId": "010c81e4-9867-4ebe-8066-3517ea5b122f"
      },
      "execution_count": null,
      "outputs": [
        {
          "output_type": "stream",
          "name": "stdout",
          "text": [
            "[7, 6, 6, 5, 4, 3, 3, 1]\n"
          ]
        }
      ]
    },
    {
      "cell_type": "code",
      "source": [],
      "metadata": {
        "id": "LihLeH8lrBok"
      },
      "execution_count": null,
      "outputs": []
    },
    {
      "cell_type": "markdown",
      "source": [],
      "metadata": {
        "id": "kItKsJFArBs6"
      }
    }
  ]
}